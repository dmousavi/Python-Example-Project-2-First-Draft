{
 "cells": [
  {
   "cell_type": "code",
   "execution_count": 1,
   "id": "b4ac6d1e-39d5-4bba-94ef-9511b2f18499",
   "metadata": {},
   "outputs": [],
   "source": [
    "# !pip install Bio\n",
    "# !pip install nglview\n",
    "# !pip install ipywidgets\n",
    "# !pip install biopython"
   ]
  },
  {
   "cell_type": "code",
   "execution_count": 2,
   "id": "aa6b4739-8e03-48f4-9a0c-7b41f651144f",
   "metadata": {},
   "outputs": [
    {
     "name": "stdout",
     "output_type": "stream",
     "text": [
      "Enabling notebook extension jupyter-js-widgets/extension...\n",
      "      - Validating: \u001b[32mOK\u001b[0m\n"
     ]
    }
   ],
   "source": [
    "!jupyter nbextension enable --py widgetsnbextension"
   ]
  },
  {
   "cell_type": "code",
   "execution_count": 3,
   "id": "4d96c904-c79d-4aff-9820-79c2dfd90e57",
   "metadata": {},
   "outputs": [
    {
     "data": {
      "application/vnd.jupyter.widget-view+json": {
       "model_id": "86ceead35b9042a99bc3d7892bc91d14",
       "version_major": 2,
       "version_minor": 0
      },
      "text/plain": []
     },
     "metadata": {},
     "output_type": "display_data"
    }
   ],
   "source": [
    "from Bio.PDB import *\n",
    "import nglview as nv\n",
    "import ipywidgets"
   ]
  },
  {
   "cell_type": "code",
   "execution_count": 4,
   "id": "c97d0c02-f8b7-421d-aea0-be6e1aba68c7",
   "metadata": {},
   "outputs": [],
   "source": [
    "pdb_parser = PDBParser()"
   ]
  },
  {
   "cell_type": "code",
   "execution_count": 5,
   "id": "726fc101-8a2e-4d72-bef1-d3e2a94fcada",
   "metadata": {},
   "outputs": [
    {
     "name": "stderr",
     "output_type": "stream",
     "text": [
      "/Users/dinamousavi/opt/anaconda3/lib/python3.8/site-packages/Bio/PDB/StructureBuilder.py:89: PDBConstructionWarning: WARNING: Chain A is discontinuous at line 11444.\n",
      "  warnings.warn(\n",
      "/Users/dinamousavi/opt/anaconda3/lib/python3.8/site-packages/Bio/PDB/StructureBuilder.py:89: PDBConstructionWarning: WARNING: Chain B is discontinuous at line 11528.\n",
      "  warnings.warn(\n",
      "/Users/dinamousavi/opt/anaconda3/lib/python3.8/site-packages/Bio/PDB/StructureBuilder.py:89: PDBConstructionWarning: WARNING: Chain C is discontinuous at line 11689.\n",
      "  warnings.warn(\n"
     ]
    }
   ],
   "source": [
    "structure = pdb_parser.get_structure(\"PSEN-1\", \"7d8x.pdb\")"
   ]
  },
  {
   "cell_type": "code",
   "execution_count": 6,
   "id": "007b1572-b25f-4f7e-9989-ef6d7e805cbd",
   "metadata": {},
   "outputs": [
    {
     "data": {
      "application/vnd.jupyter.widget-view+json": {
       "model_id": "eb87f44812c9446688bbe113021b55d5",
       "version_major": 2,
       "version_minor": 0
      },
      "text/plain": [
       "NGLWidget()"
      ]
     },
     "metadata": {},
     "output_type": "display_data"
    }
   ],
   "source": [
    "nv.show_biopython(structure)"
   ]
  },
  {
   "cell_type": "code",
   "execution_count": null,
   "id": "4d22b30d-fb4c-4072-9774-b0b932bad8b3",
   "metadata": {},
   "outputs": [],
   "source": []
  }
 ],
 "metadata": {
  "kernelspec": {
   "display_name": "Python 3",
   "language": "python",
   "name": "python3"
  },
  "language_info": {
   "codemirror_mode": {
    "name": "ipython",
    "version": 3
   },
   "file_extension": ".py",
   "mimetype": "text/x-python",
   "name": "python",
   "nbconvert_exporter": "python",
   "pygments_lexer": "ipython3",
   "version": "3.8.8"
  }
 },
 "nbformat": 4,
 "nbformat_minor": 5
}

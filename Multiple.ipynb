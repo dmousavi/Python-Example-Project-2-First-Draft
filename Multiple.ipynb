{
 "cells": [
  {
   "cell_type": "code",
   "execution_count": 16,
   "id": "82765f81-b616-470f-89fe-ae8dc7283d61",
   "metadata": {},
   "outputs": [],
   "source": [
    "from Bio import AlignIO"
   ]
  },
  {
   "cell_type": "code",
   "execution_count": 17,
   "id": "eb6e5dd8-b1e2-48a0-9546-939dae3105d5",
   "metadata": {},
   "outputs": [],
   "source": [
    "align = AlignIO.read(\"psen1.aln\", \"clustal\")"
   ]
  },
  {
   "cell_type": "code",
   "execution_count": 18,
   "id": "41a25456-5bef-4409-837f-c675167ce1a3",
   "metadata": {},
   "outputs": [
    {
     "name": "stdout",
     "output_type": "stream",
     "text": [
      "Alignment with 6 rows and 467 columns\n",
      "MTELPAPLSYFQNAQMSEDNHLSN----TNDNRERQEHNDRRSL...FYI AAH11729.1\n",
      "MTELPAPLSYFQNAQMSEDNHLSN----TNDNRERQEHSDRRSL...FYI XP_007985388.1\n",
      "MTELPAPLSYFQNAQMSEDNHLSN----TNDNRERQEHNDRRSL...FYI AAB46370.1\n",
      "MTELPAPLSYFQNAQMSEDNHLSNTVRSQNDNRERQEHNDRRSL...FYI NP_000012.1\n",
      "MTELPAPLSYFQNAQMSEDNHLSN----TNDNRERQEHNDRRSL...FYI XP_024087009.1\n",
      "MTELPAPLSYFQNAQMSEDNHLSN----TNDNRERQEHNDRRRV...FYI XP_012293630.1\n"
     ]
    }
   ],
   "source": [
    "print(align)"
   ]
  },
  {
   "cell_type": "code",
   "execution_count": null,
   "id": "5ff58052-7c7b-4900-8b3a-f044c4828dd2",
   "metadata": {},
   "outputs": [],
   "source": []
  }
 ],
 "metadata": {
  "kernelspec": {
   "display_name": "Python 3",
   "language": "python",
   "name": "python3"
  },
  "language_info": {
   "codemirror_mode": {
    "name": "ipython",
    "version": 3
   },
   "file_extension": ".py",
   "mimetype": "text/x-python",
   "name": "python",
   "nbconvert_exporter": "python",
   "pygments_lexer": "ipython3",
   "version": "3.8.8"
  }
 },
 "nbformat": 4,
 "nbformat_minor": 5
}
